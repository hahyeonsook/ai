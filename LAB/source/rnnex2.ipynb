version https://git-lfs.github.com/spec/v1
oid sha256:cce2eea33c7e384e9b0b4a14d0cbf6bb91c4e5545e700b30cbead8f31355d6f4
size 2949
