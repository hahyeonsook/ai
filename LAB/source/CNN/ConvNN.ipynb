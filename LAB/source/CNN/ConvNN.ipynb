version https://git-lfs.github.com/spec/v1
oid sha256:1eb0e2e8864da44547d4e5eaa9a49508afdeef669c5d5a02fdc632fa2efc84d6
size 6739
