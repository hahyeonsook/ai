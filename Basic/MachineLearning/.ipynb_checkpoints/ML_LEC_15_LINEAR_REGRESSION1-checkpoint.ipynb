{
 "cells": [
  {
   "cell_type": "code",
   "execution_count": 1,
   "metadata": {},
   "outputs": [
    {
     "name": "stdout",
     "output_type": "stream",
     "text": [
      "x_data.shape =  (5, 1) , t_data.shape =  (5, 1)\n"
     ]
    }
   ],
   "source": [
    "import numpy as np\n",
    "\n",
    "x_data = np.array([1, 2, 3, 4, 5]).reshape(5, 1)\n",
    "t_data = np.array([2, 3, 4, 5, 6]).reshape(5, 1)\n",
    "\n",
    "# raw_data = [[1, 2], [2, 3], [3, 4], [4, 5], [5, 6]]\n",
    "\n",
    "print(\"x_data.shape = \", x_data.shape, \", t_data.shape = \", t_data.shape)"
   ]
  },
  {
   "cell_type": "code",
   "execution_count": 2,
   "metadata": {},
   "outputs": [
    {
     "name": "stdout",
     "output_type": "stream",
     "text": [
      "W =  [[0.21824249]] W.shape =  (1, 1) , b =  [0.57025885] , b.shape =  (1,)\n"
     ]
    }
   ],
   "source": [
    "W = np.random.rand(1, 1)\n",
    "b = np.random.rand(1)\n",
    "\n",
    "print(\"W = \", W, \"W.shape = \", W.shape, \", b = \", b, \", b.shape = \", b.shape)"
   ]
  },
  {
   "cell_type": "code",
   "execution_count": 3,
   "metadata": {},
   "outputs": [],
   "source": [
    "def loss_func(x, t):\n",
    "    y = np.dot(x, W) + b\n",
    "    \n",
    "    return(np.sum((t - y)**2)) / (len(x))"
   ]
  },
  {
   "cell_type": "code",
   "execution_count": 4,
   "metadata": {},
   "outputs": [],
   "source": [
    "def numerical_derivative(f, x):\n",
    "    delta_x = 1e-4\n",
    "    grad = np.zeros_like(x)\n",
    "    \n",
    "    it = np.nditer(x, flags = ['multi_index'], op_flags = ['readwrite'])\n",
    "    \n",
    "    while not it.finished:\n",
    "        idx=  it.multi_index\n",
    "        tmp_val = x[idx]\n",
    "        x[idx] = float(tmp_val) + delta_x\n",
    "        fx1 = f(x) # f(x + delta_x)\n",
    "        \n",
    "        x[idx] = tmp_val - delta_x\n",
    "        fx2 = f(x) #f(x - delta_x)\n",
    "        grad[idx] = (fx1 - fx2) / (2*delta_x)\n",
    "        \n",
    "        x[idx] = tmp_val\n",
    "        it.iternext()\n",
    "        \n",
    "    return grad"
   ]
  },
  {
   "cell_type": "code",
   "execution_count": 7,
   "metadata": {},
   "outputs": [],
   "source": [
    "# 손실함수 값 계산 함수\n",
    "# 입력변수 x, t : numpy type\n",
    "def error_val(x, t):\n",
    "    y = np.dot(x, W) + b\n",
    "    \n",
    "    return (np.sum((t - y)**2)) / (len(x))\n",
    "\n",
    "# 학습을 마친 후, 임의의 데이터에 대해 미래 값 예측 함수\n",
    "# 입력변수 x : numpy type\n",
    "def predict(x):\n",
    "    y = np.dot(x, W) + b\n",
    "    \n",
    "    return y"
   ]
  },
  {
   "cell_type": "code",
   "execution_count": 8,
   "metadata": {},
   "outputs": [
    {
     "name": "stdout",
     "output_type": "stream",
     "text": [
      "Initial error value =  8.922990567576644 Initial W =  [[0.21824249]] \n",
      " , b =  [0.57025885]\n",
      "step =  0 error value =  5.253407771172702 W =  [[0.41601361]] , b =  [0.61389286]\n",
      "step =  400 error value =  0.0006984266652000805 W =  [[1.01716157]] , b =  [0.93805643]\n",
      "step =  800 error value =  4.456375031923821e-05 W =  [[1.00433498]] , b =  [0.98435316]\n",
      "step =  1200 error value =  2.843430730049871e-06 W =  [[1.00109501]] , b =  [0.99604763]\n",
      "step =  1600 error value =  1.8142769086243327e-07 W =  [[1.0002766]] , b =  [0.99900164]\n",
      "step =  2000 error value =  1.1576159272602557e-08 W =  [[1.00006987]] , b =  [0.99974782]\n",
      "step =  2400 error value =  7.386273995302962e-10 W =  [[1.00001765]] , b =  [0.9999363]\n",
      "step =  2800 error value =  4.7128794839115224e-11 W =  [[1.00000446]] , b =  [0.99998391]\n",
      "step =  3200 error value =  3.007095734253448e-12 W =  [[1.00000113]] , b =  [0.99999594]\n",
      "step =  3600 error value =  1.9187048584732918e-13 W =  [[1.00000028]] , b =  [0.99999897]\n",
      "step =  4000 error value =  1.2242471357661133e-14 W =  [[1.00000007]] , b =  [0.99999974]\n",
      "step =  4400 error value =  7.81142049074374e-16 W =  [[1.00000002]] , b =  [0.99999993]\n",
      "step =  4800 error value =  4.984147694612617e-17 W =  [[1.]] , b =  [0.99999998]\n",
      "step =  5200 error value =  3.1801810357217433e-18 W =  [[1.]] , b =  [1.]\n",
      "step =  5600 error value =  2.0291431285967244e-19 W =  [[1.]] , b =  [1.]\n",
      "step =  6000 error value =  1.2947100430361167e-20 W =  [[1.]] , b =  [1.]\n",
      "step =  6400 error value =  8.261261508979317e-22 W =  [[1.]] , b =  [1.]\n",
      "step =  6800 error value =  5.270770430587936e-23 W =  [[1.]] , b =  [1.]\n",
      "step =  7200 error value =  3.3656574210842155e-24 W =  [[1.]] , b =  [1.]\n",
      "step =  7600 error value =  2.153411199827877e-25 W =  [[1.]] , b =  [1.]\n",
      "step =  8000 error value =  1.384265506350149e-26 W =  [[1.]] , b =  [1.]\n"
     ]
    }
   ],
   "source": [
    "lerning_rate = 1e-2 # 발산하는 경우, 1e-3 ~ 1e-6 등으로 바꾸어서 실행\n",
    "\n",
    "f = lambda x : loss_func(x_data, t_data)\n",
    "\n",
    "print(\"Initial error value = \", error_val(x_data, t_data), \"Initial W = \", W, \"\\n\", \", b = \", b)\n",
    "\n",
    "for step in range(8001):\n",
    "    \n",
    "    W -= lerning_rate * numerical_derivative(f, W)\n",
    "    \n",
    "    b -= lerning_rate * numerical_derivative(f, b)\n",
    "    \n",
    "    if(step % 400 == 0):\n",
    "        print(\"step = \", step, \"error value = \", error_val(x_data, t_data), \"W = \", W, \", b = \", b)"
   ]
  },
  {
   "cell_type": "code",
   "execution_count": 9,
   "metadata": {},
   "outputs": [
    {
     "data": {
      "text/plain": [
       "array([[44.]])"
      ]
     },
     "execution_count": 9,
     "metadata": {},
     "output_type": "execute_result"
    }
   ],
   "source": [
    "predict(43)"
   ]
  }
 ],
 "metadata": {
  "kernelspec": {
   "display_name": "Python 3",
   "language": "python",
   "name": "python3"
  },
  "language_info": {
   "codemirror_mode": {
    "name": "ipython",
    "version": 3
   },
   "file_extension": ".py",
   "mimetype": "text/x-python",
   "name": "python",
   "nbconvert_exporter": "python",
   "pygments_lexer": "ipython3",
   "version": "3.5.2"
  }
 },
 "nbformat": 4,
 "nbformat_minor": 2
}
