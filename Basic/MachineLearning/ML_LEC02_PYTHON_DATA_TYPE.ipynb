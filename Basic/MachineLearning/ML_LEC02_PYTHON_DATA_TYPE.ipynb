{
 "cells": [
  {
   "cell_type": "markdown",
   "metadata": {},
   "source": [
    "# [머신러닝/딥러닝 강의-박성호](https://www.youtube.com/watch?v=etM5NLvp_do&list=PLS8gIc2q83OjStGjdTF2LZtc0vefCAbnX&index=35)\n",
    "\n",
    "## 파이썬의 데이터타입"
   ]
  },
  {
   "cell_type": "code",
   "execution_count": 1,
   "metadata": {},
   "outputs": [],
   "source": [
    "a=[10,20,30,40,50]"
   ]
  },
  {
   "cell_type": "code",
   "execution_count": 4,
   "metadata": {},
   "outputs": [
    {
     "name": "stdout",
     "output_type": "stream",
     "text": [
      "[10, 20]\n"
     ]
    }
   ],
   "source": [
    "#a[0:2] => 인덱스 0부터 2-1까지\n",
    "\n",
    "print(a[0:2])"
   ]
  },
  {
   "cell_type": "markdown",
   "metadata": {},
   "source": [
    "## tuple\n",
    "\n",
    "list 와 tuple의 차이점은 **리스트는 안의 내용을 수정할 수 있으나, 튜플은 변경할 수 없음**"
   ]
  },
  {
   "cell_type": "code",
   "execution_count": 5,
   "metadata": {},
   "outputs": [],
   "source": [
    "a=(10,20,30,40,50)"
   ]
  },
  {
   "cell_type": "code",
   "execution_count": 6,
   "metadata": {},
   "outputs": [
    {
     "name": "stdout",
     "output_type": "stream",
     "text": [
      "10\n"
     ]
    }
   ],
   "source": [
    "print(a[0])"
   ]
  },
  {
   "cell_type": "code",
   "execution_count": 7,
   "metadata": {},
   "outputs": [
    {
     "ename": "TypeError",
     "evalue": "'tuple' object does not support item assignment",
     "output_type": "error",
     "traceback": [
      "\u001b[1;31m---------------------------------------------------------------------------\u001b[0m",
      "\u001b[1;31mTypeError\u001b[0m                                 Traceback (most recent call last)",
      "\u001b[1;32m<ipython-input-7-addbe00de7f7>\u001b[0m in \u001b[0;36m<module>\u001b[1;34m\u001b[0m\n\u001b[1;32m----> 1\u001b[1;33m \u001b[0ma\u001b[0m\u001b[1;33m[\u001b[0m\u001b[1;36m0\u001b[0m\u001b[1;33m]\u001b[0m \u001b[1;33m=\u001b[0m \u001b[1;36m100\u001b[0m  \u001b[1;31m#  튜플의 값을 변경하려고 하기 때문에 에러가 난다\u001b[0m\u001b[1;33m\u001b[0m\u001b[1;33m\u001b[0m\u001b[0m\n\u001b[0m",
      "\u001b[1;31mTypeError\u001b[0m: 'tuple' object does not support item assignment"
     ]
    }
   ],
   "source": [
    "a[0] = 100  #  튜플의 값을 변경하려고 하기 때문에 에러가 난다"
   ]
  },
  {
   "cell_type": "markdown",
   "metadata": {},
   "source": [
    "## dictionary\n",
    "\n",
    "키와 값을 한 쌍으로 하여 데이터를 저장함\n",
    "\n",
    "**입력한 순서대로 데이터가 들어가는 것이 아니므로 주의해야 함**"
   ]
  },
  {
   "cell_type": "code",
   "execution_count": 8,
   "metadata": {},
   "outputs": [],
   "source": [
    "score={\"KIM\":90, \"LEE\":80}"
   ]
  },
  {
   "cell_type": "markdown",
   "metadata": {},
   "source": [
    "KEY VALUE ITEM으로 값을 불러낼 수 있다"
   ]
  },
  {
   "cell_type": "markdown",
   "metadata": {},
   "source": [
    "## string\n",
    "\n",
    "홑따옴표와 쌍따옴표의 구분이 없다\n",
    "\n",
    "**문자열 내의 각각의 값 또한 문자열로 인식된다**"
   ]
  },
  {
   "cell_type": "code",
   "execution_count": 18,
   "metadata": {},
   "outputs": [],
   "source": [
    "a='A73, CD'"
   ]
  },
  {
   "cell_type": "code",
   "execution_count": 19,
   "metadata": {},
   "outputs": [
    {
     "data": {
      "text/plain": [
       "'7'"
      ]
     },
     "execution_count": 19,
     "metadata": {},
     "output_type": "execute_result"
    }
   ],
   "source": [
    "a[1]  # 숫자 7이 아닌 문자열 7임"
   ]
  },
  {
   "cell_type": "code",
   "execution_count": 22,
   "metadata": {},
   "outputs": [],
   "source": [
    "a = a+',EFG'  # 숫자 연산자를 문자열에도 사용할 수 있음"
   ]
  },
  {
   "cell_type": "markdown",
   "metadata": {},
   "source": [
    "#### split() 함수\n",
    "\n",
    "머신러닝에서 문자열 데이터 전처리를 위해 많이 사용됨"
   ]
  },
  {
   "cell_type": "code",
   "execution_count": 23,
   "metadata": {},
   "outputs": [
    {
     "name": "stdout",
     "output_type": "stream",
     "text": [
      "['A73', ' CD', 'EFG', 'EFG']\n"
     ]
    }
   ],
   "source": [
    "b = a.split(',')\n",
    "print(b)"
   ]
  },
  {
   "cell_type": "markdown",
   "metadata": {},
   "source": [
    "### type, len, size\n",
    "\n",
    "**type**: 머신러닝에서 데이터 형식이 각각 틀린데 우리가 원하는 값을 만들기 위해서는 데이터의 타입을 알아야 함\n",
    "\n",
    "**len**: 입력 데이터의 길이(요소의 개수)를 알려주는 함수, size는 원소의 개수고 len은 데이터의 길이(요소의 개수)임\n",
    "\n",
    "**size**: 모든 원소의 개수를 알려주는 함수"
   ]
  },
  {
   "cell_type": "code",
   "execution_count": null,
   "metadata": {},
   "outputs": [],
   "source": []
  },
  {
   "cell_type": "markdown",
   "metadata": {},
   "source": [
    "### type casting\n",
    "\n",
    "#### list, str, int 함수\n",
    "\n",
    "딕셔너리를 직접 list에 넣으면 아이템을 넣는것과 같이 나오나\n",
    "\n",
    "머신러닝에서 데이터를 원하는 모양으로 강제로 만들어야 할 때 쓰임"
   ]
  },
  {
   "cell_type": "code",
   "execution_count": null,
   "metadata": {},
   "outputs": [],
   "source": []
  },
  {
   "cell_type": "markdown",
   "metadata": {},
   "source": [
    "## 조건문\n",
    "### if condition:"
   ]
  },
  {
   "cell_type": "code",
   "execution_count": 24,
   "metadata": {},
   "outputs": [
    {
     "name": "stdout",
     "output_type": "stream",
     "text": [
      "a ==  1\n",
      "positive number\n"
     ]
    }
   ],
   "source": [
    "a = 1\n",
    "\n",
    "if a>0:\n",
    "    print(\"a == \", a)\n",
    "    print(\"positive number\")\n",
    "elif a == 0:\n",
    "    print(\"a == \", a)\n",
    "    print(\"zero\")\n",
    "else:\n",
    "    print(\"a == \", a)\n",
    "    print(\"negative number\")"
   ]
  },
  {
   "cell_type": "markdown",
   "metadata": {},
   "source": [
    "### if condition in list, dict:\n",
    "\n",
    "있으면 참이고 없으면 거짓"
   ]
  },
  {
   "cell_type": "code",
   "execution_count": 25,
   "metadata": {},
   "outputs": [],
   "source": [
    "list_data = [10, 20, 30, 40, 50]"
   ]
  },
  {
   "cell_type": "markdown",
   "metadata": {},
   "source": [
    "## 반복문\n",
    "\n",
    "### for variable in range(...):"
   ]
  },
  {
   "cell_type": "code",
   "execution_count": 34,
   "metadata": {},
   "outputs": [
    {
     "name": "stdout",
     "output_type": "stream",
     "text": [
      "0  1  2  3  4  5  6  7  8  9  "
     ]
    }
   ],
   "source": [
    "for data in range(10):\n",
    "    print(data, \" \", end='')  # end=''는 줄을 바꾸지 말라는 뜻"
   ]
  },
  {
   "cell_type": "code",
   "execution_count": 35,
   "metadata": {},
   "outputs": [
    {
     "name": "stdout",
     "output_type": "stream",
     "text": [
      "0  1  2  3  4  5  6  7  8  9  "
     ]
    }
   ],
   "source": [
    "for data in range(0, 10):  # 시작 값~마지막 값-1\n",
    "    print(data, \" \", end='')"
   ]
  },
  {
   "cell_type": "code",
   "execution_count": 36,
   "metadata": {},
   "outputs": [
    {
     "name": "stdout",
     "output_type": "stream",
     "text": [
      "0  2  4  6  8  "
     ]
    }
   ],
   "source": [
    "for data in range(0, 10, 2):  # 시작 값~마지막 값-1\n",
    "    print(data, \" \", end='')"
   ]
  },
  {
   "cell_type": "markdown",
   "metadata": {},
   "source": [
    "### for variable in list, dict:"
   ]
  },
  {
   "cell_type": "code",
   "execution_count": 33,
   "metadata": {},
   "outputs": [
    {
     "name": "stdout",
     "output_type": "stream",
     "text": [
      "10  20  30  40  50  "
     ]
    }
   ],
   "source": [
    "list_data=[10, 20, 30, 40, 50]\n",
    "\n",
    "for data in list_data:\n",
    "    print(data, \" \", end='')"
   ]
  },
  {
   "cell_type": "markdown",
   "metadata": {},
   "source": [
    "**item, key등을 사용하지 않은 dict 변수를 그냥 출력하면 key값이 나옴**\n",
    "\n",
    "키 값만 출력하고 싶으면 dict_data.keys하면 됨"
   ]
  },
  {
   "cell_type": "code",
   "execution_count": 30,
   "metadata": {},
   "outputs": [
    {
     "name": "stdout",
     "output_type": "stream",
     "text": [
      "key1  key2  "
     ]
    }
   ],
   "source": [
    "dict_data = {'key1':1, 'key2':2}\n",
    "\n",
    "for data in dict_data:\n",
    "    print(data, \" \", end='')"
   ]
  },
  {
   "cell_type": "code",
   "execution_count": 32,
   "metadata": {},
   "outputs": [
    {
     "name": "stdout",
     "output_type": "stream",
     "text": [
      "key1   1\n",
      "key2   2\n"
     ]
    }
   ],
   "source": [
    "for key, value in dict_data.items():\n",
    "    print(key, \" \", value)"
   ]
  },
  {
   "cell_type": "markdown",
   "metadata": {},
   "source": [
    "### list comprehension\n",
    "\n",
    "리스트의 []괄호 안에 for 루프를 사용하여 반복적으로 표현식을 실행해서 리스트 요소들을 정의하는 방법을 list comprehension이라 함\n",
    "\n",
    "리스트 안에 값을 직접 넣지 않고, 데이터를 만드는 방법을 적어 놓는 것"
   ]
  },
  {
   "cell_type": "code",
   "execution_count": 37,
   "metadata": {},
   "outputs": [
    {
     "name": "stdout",
     "output_type": "stream",
     "text": [
      "[0, 1, 4, 9, 16]\n"
     ]
    }
   ],
   "source": [
    "list_data = [x**2 for x in range(5)]\n",
    "\n",
    "print(list_data)"
   ]
  },
  {
   "cell_type": "code",
   "execution_count": 39,
   "metadata": {},
   "outputs": [
    {
     "name": "stdout",
     "output_type": "stream",
     "text": [
      "all_data ==  [[1, 10], [2, 15], [3, 30], [4, 55]]\n",
      "x_data ==  [1, 2, 3, 4]\n",
      "y_data ==  [10, 15, 30, 55]\n"
     ]
    }
   ],
   "source": [
    "raw_data = [[1, 10], [2, 15], [3, 30], [4, 55]]\n",
    "\n",
    "# raw_data에 있는 값을 all_data에 넣음\n",
    "all_data = [x for x in raw_data]\n",
    "# raw_data의 원소의 첫번째 데이터를 넣음\n",
    "x_data = [x[0] for x in raw_data]\n",
    "# raw_data의 원소의 두번째 데이터를 넣음\n",
    "y_data = [x[1] for x in raw_data]\n",
    "\n",
    "print(\"all_data == \", all_data)\n",
    "print(\"x_data == \" , x_data)\n",
    "print(\"y_data == \", y_data)"
   ]
  },
  {
   "cell_type": "code",
   "execution_count": 51,
   "metadata": {},
   "outputs": [
    {
     "name": "stdout",
     "output_type": "stream",
     "text": [
      "[0, 2, 4, 6, 8]\n"
     ]
    }
   ],
   "source": [
    "even_number = [ x for x in range(10) if x%2 == 0]\n",
    "\n",
    "print(even_number)"
   ]
  },
  {
   "cell_type": "markdown",
   "metadata": {},
   "source": [
    "### while, break, continue\n",
    "\n",
    "#### while condition:"
   ]
  },
  {
   "cell_type": "code",
   "execution_count": null,
   "metadata": {},
   "outputs": [],
   "source": []
  },
  {
   "cell_type": "markdown",
   "metadata": {},
   "source": [
    "## function, lamda\n",
    "### function\n",
    "\n",
    "파이썬은 입력변수의 데이터타입을 입력하지 않고 선언이 가능함\n",
    "\n",
    "파이썬 함수는 한 개 이상의 return 값을 받을 수 있음\n",
    "\n",
    "콤마로 분리하거나 tuple의 형태로 받을 수 있음 ->실제로는 튜플 타입으로 넘어감"
   ]
  },
  {
   "cell_type": "code",
   "execution_count": null,
   "metadata": {},
   "outputs": [],
   "source": []
  },
  {
   "cell_type": "markdown",
   "metadata": {},
   "source": [
    "#### 함수 입력값의 default parameter\n",
    "\n",
    "#### mutable, immutable parameter\n",
    "**입력 파라미터가 mutable(list, dict, numpy 등) 데이터형인 경우는 원래의 데이터에 변형이 일어남**\n",
    "\n",
    "변경될 수 있기 떄문에 값을 일시적으로 변경시켜야할 상황의 경우, 임시변수에 값을 저장한 후 임시변수를 변경시켜야 함\n",
    "\n",
    "c의 포인터로 생각하면 될 듯\n",
    "\n",
    "**immutable(숫자, 문자, tuple등)은 원래의 데이터에 변형이 일어나지 않음**\n",
    "\n",
    "call by value 같은 것\n",
    "\n",
    "*함수를 call하면 객체가 넘어감, 객체가 넘어갔으니까 값이 넘어간 것이 아니라*\n",
    "\n",
    "*기본으로 하면 call by value로 하는데 immutable의 경우가 call by value임*\n",
    "\n"
   ]
  },
  {
   "cell_type": "code",
   "execution_count": 53,
   "metadata": {},
   "outputs": [
    {
     "name": "stdout",
     "output_type": "stream",
     "text": [
      "x ==  1 , test_list ==  [1, 2, 3, 100]\n"
     ]
    }
   ],
   "source": [
    "def mutable_immutable_func(int_x, input_list):\n",
    "    int_x += 1\n",
    "    input_list.append(100)\n",
    "    \n",
    "x = 1\n",
    "test_list = [1, 2, 3]\n",
    "\n",
    "mutable_immutable_func(x, test_list)\n",
    "\n",
    "print(\"x == \", x, \", test_list == \", test_list)"
   ]
  },
  {
   "cell_type": "markdown",
   "metadata": {},
   "source": [
    "### lamda\n",
    "\n",
    "한 줄로 함수를 작성하는 방법, def를 사용하지 않음\n",
    "\n",
    "다른 함수의 인수로 넣을 떄 주로 사용\n",
    "\n",
    "미분을 계산하기 위해 필요한 수치 미분과 활성화 함수 등을 표현할 떄 많이 쓰임\n",
    "\n",
    "수학에서 함수 표현처럼 f(x), f(x, y)등으로 ㅅ용되며, 마지막 표현으로 대체된다는 의미\n",
    "\n",
    "**#define P printf**처럼 표현을 대체해줌\n",
    "\n",
    "함수를 간단하게 한줄로 쓰기 위함"
   ]
  },
  {
   "cell_type": "code",
   "execution_count": 56,
   "metadata": {},
   "outputs": [
    {
     "name": "stdout",
     "output_type": "stream",
     "text": [
      "100\n",
      "101\n",
      "102\n"
     ]
    }
   ],
   "source": [
    "# f = lambda x: x+100 <- 수학 함수표현 f(x)를 x+100으로 대체된다는 의미\n",
    "f = lambda x: x+100\n",
    "    \n",
    "for i in range(3):\n",
    "    print(f(i))"
   ]
  },
  {
   "cell_type": "code",
   "execution_count": 58,
   "metadata": {},
   "outputs": [
    {
     "name": "stdout",
     "output_type": "stream",
     "text": [
      "input1 ==  100 input2 ==  200\n",
      "Hello python\n"
     ]
    }
   ],
   "source": [
    "def print_hello():\n",
    "    print(\"Hello python\")\n",
    "    \n",
    "def test_lambda(s, t):\n",
    "    print(\"input1 == \", s, \"input2 == \", t)\n",
    "    \n",
    "s=100  # 이 값들이 없으면 에러, fx의 입력값이 쓰이지 않고  test_lambda의 입력값이 쓰이기 때문\n",
    "t=200\n",
    "\n",
    "fx=lambda x, y: test_lambda(s,t)\n",
    "fy=lambda x, y: print_hello()\n",
    "\n",
    "# 입력값이 쓰이지는 않음, 하지만 값이 없을 경우 에러\n",
    "fx(500, 100)\n",
    "fy(300, 600)"
   ]
  }
 ],
 "metadata": {
  "kernelspec": {
   "display_name": "Python 3",
   "language": "python",
   "name": "python3"
  },
  "language_info": {
   "codemirror_mode": {
    "name": "ipython",
    "version": 3
   },
   "file_extension": ".py",
   "mimetype": "text/x-python",
   "name": "python",
   "nbconvert_exporter": "python",
   "pygments_lexer": "ipython3",
   "version": "3.5.2"
  }
 },
 "nbformat": 4,
 "nbformat_minor": 2
}
