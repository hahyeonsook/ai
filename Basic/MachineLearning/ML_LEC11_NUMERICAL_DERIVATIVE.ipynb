{
 "cells": [
  {
   "cell_type": "markdown",
   "metadata": {},
   "source": [
    "이 글은 [Machine Learning - 박성호](https://www.youtube.com/watch?v=g4YmXwVttVg&list=PLS8gIc2q83OjStGjdTF2LZtc0vefCAbnX&index=26) 강좌를 요약정리한 글입니다.\n",
    "\n",
    "---\n",
    "## Numerical Derivative"
   ]
  },
  {
   "cell_type": "markdown",
   "metadata": {},
   "source": [
    "$$f'(x) = {{df(x)} \\over {dx}}\n",
    "= lim_{△x -> 0}{{{f(x+△x} - f(x)} \\over {△x}}$$\n",
    "\n",
    "#### 미분을 왜 하는가? \n",
    "\n",
    "* 입력변수 x가 미세하게 변할 때, 함수 f가 얼마나 변하는지 나타내는 수식\n",
    "* 함수 f(x)는 입력 x의 미세한 변화에 얼마나 민감하게 반응하는지 알 수 있는 식\n",
    "\n",
    "\n",
    "#### 미분을 통해 얻을 수 있는 것은 무엇인가?\n",
    "\n",
    "* 입력 x를 현재 값에서 아주 조금 변화시키면, 함수 f(x)는 얼마나 변하는가?\n",
    "* 함수 f(x)는 입력 x의 미세한 변화에 얼마나 민감하게 반응하는가?\n"
   ]
  },
  {
   "cell_type": "markdown",
   "metadata": {},
   "source": [
    "#### 수치미분 1차 버전\n",
    "\n",
    "주어진 입력 값이 미세하게 변할 때 함수 값 f는 얼마나 변하는지 알아내주는 함수\n",
    "\n",
    "${f'(x)} = {df(x) \\over dx}$ : 1. 미분하려는 함수 f(x) 정의\n",
    "\n",
    "$= {{lim_{△x->0}}{{f(x+△x)-f(x)} \\over △x}}$ : 2. 극한(lim) 개념을 구현하기 위해 △x는 작은 값으로 설정\n",
    "\n",
    "$= {{lim_{△x->0}}{{f(x+△x)-f(x-△x)} \\over 2△x}}$ : 3. 분자/분모 구현"
   ]
  },
  {
   "cell_type": "code",
   "execution_count": 6,
   "metadata": {},
   "outputs": [],
   "source": [
    "# 1. 미분하고자 하는 함수 f(x) 정의\n",
    "# @param f 미분하려는 함수, 외부에서 def, lambda 등으로 정의됨\n",
    "# @param x 미분 값을 알고자 하는 입력 값, 즉 미세하게 변하는 입력 값\n",
    "def numerical_derivative(f, x):\n",
    "    \n",
    "    # 2. 극한(lim) 개념을 구하기 위해 delta x는 작은 값으로 설정\n",
    "    delta_x = 1e-4\n",
    "    \n",
    "    # 3. 분자 / 분모 구현\n",
    "    return (f(x+delta_x) - f(x-delta_x)) / (2*delta_x)"
   ]
  },
  {
   "cell_type": "markdown",
   "metadata": {},
   "source": [
    "**ex1 함수 $f(x) = x^2$에서 미분계수 $f'(3)$을 구하기. 즉, $x=3$에서 값이 미세하게 변할 때, 함수 f는 얼마나 변하는지 계산하라.**\n",
    "\n",
    "$f'(3) = {lim_{△x->0}}{f(3+△x)-f(3-△x) \\over 2△x}$\n",
    "\n",
    "$f'(3) = {f(3+1e-4)-f(3-1e-4) \\over 2*1e-4}$\n",
    "\n",
    "$f'(3) = {(3+1e-4)-(3-1e-4) \\over 2*1e-4}$\n",
    "\n",
    "$f'(3) = 6.0$"
   ]
  },
  {
   "cell_type": "code",
   "execution_count": 12,
   "metadata": {},
   "outputs": [],
   "source": [
    "# 들어온 값을 제곱\n",
    "def my_func1(x):\n",
    "    \n",
    "    return x**2"
   ]
  },
  {
   "cell_type": "code",
   "execution_count": 9,
   "metadata": {},
   "outputs": [],
   "source": [
    "def numerical_derivative(f, x):\n",
    "    \n",
    "    delta_x = 1e-4\n",
    "    \n",
    "    return (f(x+delta_x) - f(x-delta_x)) / (2*delta_x)"
   ]
  },
  {
   "cell_type": "code",
   "execution_count": 13,
   "metadata": {},
   "outputs": [
    {
     "name": "stdout",
     "output_type": "stream",
     "text": [
      "result ==  6.000000000012662\n"
     ]
    }
   ],
   "source": [
    "result = numerical_derivative(my_func1, 3)\n",
    "\n",
    "print(\"result == \", result)"
   ]
  },
  {
   "cell_type": "markdown",
   "metadata": {},
   "source": [
    "result의 의미는 **x=3에서 값이 아주 미세하게 변할 때, 함수 f는 약 6만큼 변한다**는 의미이다."
   ]
  },
  {
   "cell_type": "markdown",
   "metadata": {},
   "source": [
    "**ex2 함수 $f(x) = 3xe^x$를 미분한 함수를 $f'(x)$라고 할 때, $f'(2)$을 구하기. 즉, $x=2$에서 값이 미세하게 변할 때, 함수 f는 얼마나 변하는지 계산하라.**\n",
    "\n",
    "\n",
    "**수학공식 검증**\n",
    "\n",
    "$f(x) = 3xe^x$ 미분\n",
    "\n",
    "$f'(x) = 3e^x + 3xe^x$\n",
    "\n",
    "$f'(2) = 3e^2+3*2e^2$"
   ]
  },
  {
   "cell_type": "code",
   "execution_count": 20,
   "metadata": {},
   "outputs": [
    {
     "name": "stdout",
     "output_type": "stream",
     "text": [
      "3*exp(2) + 3*2*exp(2) ==  66.50150489037586\n"
     ]
    }
   ],
   "source": [
    "print(\"3*exp(2) + 3*2*exp(2) == \", end=' ')\n",
    "print(3*np.exp(2) + 3*2*np.exp(2))"
   ]
  },
  {
   "cell_type": "markdown",
   "metadata": {},
   "source": [
    "**수치 미분**"
   ]
  },
  {
   "cell_type": "code",
   "execution_count": 14,
   "metadata": {},
   "outputs": [],
   "source": [
    "import numpy as np\n",
    "\n",
    "def my_func2(x):\n",
    "    \n",
    "    return 3*x*(np.exp(x))"
   ]
  },
  {
   "cell_type": "code",
   "execution_count": 16,
   "metadata": {},
   "outputs": [],
   "source": [
    "def numerical_derivate(f, x):\n",
    "    \n",
    "    delta_x = 1e-4\n",
    "    \n",
    "    return (f(x+delta_x) - f(x-delta_x)) / (2*delta_x)"
   ]
  },
  {
   "cell_type": "code",
   "execution_count": 18,
   "metadata": {},
   "outputs": [
    {
     "name": "stdout",
     "output_type": "stream",
     "text": [
      "result ==  66.50150507518049\n"
     ]
    }
   ],
   "source": [
    "result = numerical_derivative(my_func2, 2)\n",
    "\n",
    "print(\"result == \", result)"
   ]
  },
  {
   "cell_type": "markdown",
   "metadata": {},
   "source": [
    "#### 수치미분 최종 버전\n",
    "\n",
    "* 입력 변수가 하나 이상인 **다변수 함수의 경우, 입력변수는 서로 독립적이기 때문에 수치미분 또는 변수의 개수만큼 개별적으로 계산**하여야 함\n",
    "\n",
    "**$f(x, y) = 2x+3xy+y^3$, 인 경우 $f'(1.0, 2.0) = (8.0, 15.0)$ 직관적 이해**\n",
    "\n",
    "-> $x = 1.0$에서 미분 값을 구한다는 것은, y값은 2.0으로 고정한 상태에서, $x = 1.0$을 미세하게 변화시킬 때, $f(x, y)$는 얼마나 변화되는지 알아보겠다는 의미. 즉, $y = 2.0$으로 고정된 상태에서 $x = 1.0$을 미세하게 변화시키면 $f(x, y)$는 8.0만큼 변한다는 의미.\n",
    "\n",
    "-> $y = 2.0$에서 미분 값을 구한다는 것은, x값은 1.0으로 고정한 상태에서, $y = 2.0$을 미세하게 변화시킬 때, $f(x, y)$는 얼마나 변화되는지 알아보겠다는 의미. 즉, $x = 1.0$으로 고정된 상태에서 $y = 2.0$을 미세하게 변화시키면 $f(x, y)$는 15.0만큼 변한다는 의미"
   ]
  },
  {
   "cell_type": "code",
   "execution_count": 2,
   "metadata": {},
   "outputs": [],
   "source": [
    "import numpy as np\n",
    "\n",
    "# @param f 미분하고자 하는 다변수 함수\n",
    "# @param x 다변수 함수의 모든 입력 변수를 포함하고 있는 numpy 객체(배열, 행렬)\n",
    "#          입력 변수가 하나일 경우, 스칼라였으나, 두 개 이상이기 때문에 객체\n",
    "def numerical_derivative(f, x):\n",
    "    delta_x = 1e-4\n",
    "    # 1. 계산된 수치미분 값을 저장할 변수\n",
    "    grad = np.zeros_like(x)\n",
    "    \n",
    "    print(\"debug 1. initial input variable =\", x)\n",
    "    print(\"debug 2. initial grad =\", grad)\n",
    "    print(\"=======================================\")\n",
    "    \n",
    "    # 2. 모든 입력변수에 대해 편미분하기 위해 iterator 획득\n",
    "    # 원소를 처음부터 끝까지 가리키기 위한 iterator\n",
    "    it = np.nditer(x, flags=['multi_index'], op_flags=['readwrite'])\n",
    "    \n",
    "    # 변수의 개수만큼 반복\n",
    "    while not it.finished:\n",
    "        idx = it.multi_index\n",
    "        \n",
    "        print(\"debug 3. idx = \", idx, \", x[idx] = \", x[idx])\n",
    "        \n",
    "        # 3. numpy 타입은 mutable 이므로 원래 값 보관\n",
    "        # 원본 값이 함수 안에서 변경될 수 있기 때문에 임시변수에 원본 값을 저장함\n",
    "        tmp_val = x[idx]\n",
    "        # 4. 하나의 변수에 대한 수치미분 계산\n",
    "        x[idx] = float(tmp_val) + delta_x\n",
    "        fx1 = f(x)\n",
    "        \n",
    "        x[idx] = tmp_val - delta_x\n",
    "        fx2 = f(x)\n",
    "        grad[idx] = (fx1 - fx2) / (2*delta_x)\n",
    "        \n",
    "        print(\"debug 4. grad[idx] = \", grad[idx])\n",
    "        print(\"debug 5. grad = \", grad)\n",
    "        print(\"=======================================\")\n",
    "        \n",
    "        # 원본 값이 변경되는 것을 막기 위해 임시 변수에 저장된 것을 다시 원래 변수 값에 넣어줌\n",
    "        x[idx] = tmp_val\n",
    "        it.iternext()\n",
    "        \n",
    "    return grad"
   ]
  },
  {
   "cell_type": "markdown",
   "metadata": {},
   "source": [
    "### 편미분(Partial derivative)\n",
    "\n",
    "* 편미분은 입력변수가 하나 이상인 다변수 함수에서, 미분하고자 하는 변수 하나를 제외한 나머지 변수들은 상수로 취급하고, 해당 변수를 미분하는 것\n",
    "\n",
    "ex1) $f(x, y) = {2x+3xy+y^3}$, 변수 x에 대한 편미분\n",
    "\n",
    "$${\\partial f(x,y) \\over {\\partial x}} = {\\partial (2x+3xy+y^3) \\over \\partial y} = {2 + 3y}$$\n",
    "\n",
    "ex2) $f(x, y) = {2x+3xy+y^3}$, 변수 y에 대한 편미분\n",
    "\n",
    "$${\\partial f(x,y) \\over {\\partial y}} = {\\partial (2x+3xy+y^3) \\over \\partial y} = {3x + 3y^2}$$\n",
    "\n",
    "ex3) 체중함수가 '체중(야식, 운동)'처럼 야식/운동에 영향을 받는 2변수 함수라고 가정할 경우, 편미분을 이용하면 각 변수 변화에 따른 체중 변화량을 구할 수 있음\n",
    "\n",
    "현재 먹는 야식의 양에서 조금 변화를 줄 경우 체중은 얼마나 변하는가?\n",
    "\n",
    "$$\\partial체중 \\over \\partial야식$$\n",
    "\n",
    "현재 하고 있는 운동량에 조금 변화를 줄 경우 체중은 얼마나 변하는가?\n",
    "\n",
    "$$\\partial체중 \\over \\partial운동$$"
   ]
  },
  {
   "cell_type": "markdown",
   "metadata": {},
   "source": [
    "* 머신러닝/딥러닝에서 자주 사용되는 함수의 미분\n",
    "\n",
    "$f(x) = 상수$  ->  $f'(x) = 0$ \n",
    "\n",
    "$f(x) = ax^n$  ->  $f'(x) = nax^{n-1}$\n",
    "\n",
    "$f(x) = e^x$  ->  $f'(x) = e^x$ \n",
    "\n",
    "$f(x) = lnx$  ->  $f'(x) = {1 \\over x}$\n",
    "\n",
    "$f(x) = e^{-x}$  ->  $f'(x) = -e^{-x}$"
   ]
  },
  {
   "cell_type": "markdown",
   "metadata": {},
   "source": [
    "### 연쇄법칙(Chain rule)\n",
    "\n",
    "* 합성함수란 여러 함수로 구성된 함수로서, 이러한 합성함수를 미분하려면 '합성함수를 구성하는 각 함수의 미분의 곱'으로 나타내는 chain rule(연쇄법칙) 이용\n",
    "* 함수가 합쳐져 있는 형태를 가짐\n",
    "\n",
    "ex1) $f(x) = e^{3x^2}$  ->  함수 $e^t$, 함수 $t = 3x^2$ 조합\n",
    "\n",
    "$f(x) = e^{3x^2}$을 chain rule로 미분하는 경우, $t = 3x^2$으로 놓으면 $f(x) = e^t$로 나타낼 수 있음\n",
    "\n",
    "\n",
    "\n",
    "$${\\partial f \\over \\partial x} = {{\\partial f \\over \\partial t}{\\partial t \\over \\partial x}} = {{\\partial (e^t) \\over \\partial t}{\\partial (3x^2) \\over \\partial x}} = {(e^t)(6x)} = {(e^{3x^2})(6x)} = {6xe^{3x^2}}$$\n",
    "\n",
    "\n",
    "ex2) $f(x) = e^{-x}$  ->  함수 $e^t$, 함수 $t = -x$ 조합\n",
    "\n",
    "$f(x) = e^{-x}$를 chain rule로 미분하는 경우,  $t = -x$로 놓으면 $f(x) = e^t$로 나타낼 수 있음\n",
    "\n",
    "$${\\partial f \\over \\partial x} = {{\\partial f \\over \\partial t}{\\partial t \\over \\partial x}} = {{\\partial (e^t) \\over \\partial t}{\\partial (3x^2) \\over \\partial x}} = {(e^t)(-1)} = {(e^x)(-1)} = {-e^{-x}}$$\n"
   ]
  },
  {
   "cell_type": "code",
   "execution_count": 6,
   "metadata": {},
   "outputs": [
    {
     "name": "stdout",
     "output_type": "stream",
     "text": [
      "debug 1. initial input variable = [3.]\n",
      "debug 2. initial grad = [0.]\n",
      "=======================================\n",
      "debug 3. idx =  (0,) , x[idx] =  3.0\n",
      "debug 4. grad[idx] =  6.000000000012662\n",
      "debug 5. grad =  [6.]\n",
      "=======================================\n"
     ]
    },
    {
     "data": {
      "text/plain": [
       "array([6.])"
      ]
     },
     "execution_count": 6,
     "metadata": {},
     "output_type": "execute_result"
    }
   ],
   "source": [
    "def func1(input_obj):\n",
    "    x = input_obj[0]\n",
    "    \n",
    "    return x**2\n",
    "\n",
    "numerical_derivative(func1, np.array([3.0]))"
   ]
  },
  {
   "cell_type": "code",
   "execution_count": 7,
   "metadata": {},
   "outputs": [
    {
     "name": "stdout",
     "output_type": "stream",
     "text": [
      "debug 1. initial input variable = [1. 2.]\n",
      "debug 2. initial grad = [0. 0.]\n",
      "=======================================\n",
      "debug 3. idx =  (0,) , x[idx] =  1.0\n",
      "debug 4. grad[idx] =  7.999999999990237\n",
      "debug 5. grad =  [8. 0.]\n",
      "=======================================\n",
      "debug 3. idx =  (1,) , x[idx] =  2.0\n",
      "debug 4. grad[idx] =  15.000000010019221\n",
      "debug 5. grad =  [ 8.         15.00000001]\n",
      "=======================================\n"
     ]
    },
    {
     "data": {
      "text/plain": [
       "array([ 8.        , 15.00000001])"
      ]
     },
     "execution_count": 7,
     "metadata": {},
     "output_type": "execute_result"
    }
   ],
   "source": [
    "def func1(input_obj):\n",
    "    x = input_obj[0]\n",
    "    y = input_obj[1]\n",
    "    \n",
    "    return (2*x + 3*x*y + np.power(y,3))\n",
    "\n",
    "input = np.array([1.0, 2.0])\n",
    "\n",
    "numerical_derivative(func1, input)"
   ]
  },
  {
   "cell_type": "code",
   "execution_count": 9,
   "metadata": {},
   "outputs": [
    {
     "name": "stdout",
     "output_type": "stream",
     "text": [
      "debug 1. initial input variable = [[1. 2.]\n",
      " [3. 4.]]\n",
      "debug 2. initial grad = [[0. 0.]\n",
      " [0. 0.]]\n",
      "=======================================\n",
      "debug 3. idx =  (0, 0) , x[idx] =  1.0\n",
      "debug 4. grad[idx] =  5.000000000023874\n",
      "debug 5. grad =  [[5. 0.]\n",
      " [0. 0.]]\n",
      "=======================================\n",
      "debug 3. idx =  (0, 1) , x[idx] =  2.0\n",
      "debug 4. grad[idx] =  13.00000000000523\n",
      "debug 5. grad =  [[ 5. 13.]\n",
      " [ 0.  0.]]\n",
      "=======================================\n",
      "debug 3. idx =  (1, 0) , x[idx] =  3.0\n",
      "debug 4. grad[idx] =  32.00000000006753\n",
      "debug 5. grad =  [[ 5. 13.]\n",
      " [32.  0.]]\n",
      "=======================================\n",
      "debug 3. idx =  (1, 1) , x[idx] =  4.0\n",
      "debug 4. grad[idx] =  15.000000000000568\n",
      "debug 5. grad =  [[ 5. 13.]\n",
      " [32. 15.]]\n",
      "=======================================\n"
     ]
    },
    {
     "data": {
      "text/plain": [
       "array([[ 5., 13.],\n",
       "       [32., 15.]])"
      ]
     },
     "execution_count": 9,
     "metadata": {},
     "output_type": "execute_result"
    }
   ],
   "source": [
    "def func1(input_obj):\n",
    "    w = input_obj[0, 0]\n",
    "    x = input_obj[0, 1]\n",
    "    y = input_obj[1, 0]\n",
    "    z = input_obj[1, 1]\n",
    "    \n",
    "    return (w*x + x*y*z +3*w + z*np.power(y, 2))\n",
    "\n",
    "input = np.array([[1.0, 2.0], [3.0, 4.0]])\n",
    "\n",
    "numerical_derivative(func1, input)"
   ]
  }
 ],
 "metadata": {
  "kernelspec": {
   "display_name": "Python 3",
   "language": "python",
   "name": "python3"
  },
  "language_info": {
   "codemirror_mode": {
    "name": "ipython",
    "version": 3
   },
   "file_extension": ".py",
   "mimetype": "text/x-python",
   "name": "python",
   "nbconvert_exporter": "python",
   "pygments_lexer": "ipython3",
   "version": "3.5.2"
  }
 },
 "nbformat": 4,
 "nbformat_minor": 2
}
