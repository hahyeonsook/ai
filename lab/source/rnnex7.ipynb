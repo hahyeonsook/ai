version https://git-lfs.github.com/spec/v1
oid sha256:226dfd3141029ae33c34db2d16113deb6c4e3ca11f00dda2adc80e3190eae015
size 10961
