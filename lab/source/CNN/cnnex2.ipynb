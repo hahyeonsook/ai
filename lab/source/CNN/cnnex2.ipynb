version https://git-lfs.github.com/spec/v1
oid sha256:ba6ffec7401204ba01945894bc1ade8409a74b07845ae2456bdff0679f5d2573
size 12046
