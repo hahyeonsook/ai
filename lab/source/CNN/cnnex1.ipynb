version https://git-lfs.github.com/spec/v1
oid sha256:1a7dde025eb4324bc36972c3707fe7770752ca3cecd745e4b15576b3fa7b65dd
size 21322
