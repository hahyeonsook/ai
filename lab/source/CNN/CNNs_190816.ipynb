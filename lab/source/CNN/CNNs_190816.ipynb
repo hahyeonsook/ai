{
  "nbformat": 4,
  "nbformat_minor": 0,
  "metadata": {
    "colab": {
      "name": "CNNs_190816",
      "version": "0.3.2",
      "provenance": [],
      "include_colab_link": true
    },
    "kernelspec": {
      "name": "python3",
      "display_name": "Python 3"
    },
    "accelerator": "GPU"
  },
  "cells": [
    {
      "cell_type": "markdown",
      "metadata": {
        "id": "view-in-github",
        "colab_type": "text"
      },
      "source": [
        "<a href=\"https://colab.research.google.com/github/hyeonsuk/ai/blob/master/lab/source/CNN/CNNs_190816.ipynb\" target=\"_parent\"><img src=\"https://colab.research.google.com/assets/colab-badge.svg\" alt=\"Open In Colab\"/></a>"
      ]
    },
    {
      "cell_type": "markdown",
      "metadata": {
        "id": "ZQPI56OvGYV3",
        "colab_type": "text"
      },
      "source": [
        "# CNN Algorithms\n",
        "\n",
        "## 참고 소스\n",
        "* [모두의 딥러닝_김성훈](https://github.com/hunkim/DeepLearningZeroToAll/blob/master/lab-11-1-mnist_cnn.py)\n",
        "* [솔라리스의 인공지능 연구실](http://solarisailab.com/archives/2325)"
      ]
    },
    {
      "cell_type": "markdown",
      "metadata": {
        "id": "-P-QDsDLHne1",
        "colab_type": "text"
      },
      "source": [
        "## Algorithms 작동을 위한 설정"
      ]
    },
    {
      "cell_type": "code",
      "metadata": {
        "id": "wOfVz5YeHodx",
        "colab_type": "code",
        "outputId": "8adfc91a-92c4-40ef-b5c0-ca48707f3afb",
        "colab": {
          "base_uri": "https://localhost:8080/",
          "height": 122
        }
      },
      "source": [
        "from google.colab import drive\n",
        "drive.mount('/content/drive')"
      ],
      "execution_count": 0,
      "outputs": [
        {
          "output_type": "stream",
          "text": [
            "Go to this URL in a browser: https://accounts.google.com/o/oauth2/auth?client_id=947318989803-6bn6qk8qdgf4n4g3pfee6491hc0brc4i.apps.googleusercontent.com&redirect_uri=urn%3Aietf%3Awg%3Aoauth%3A2.0%3Aoob&scope=email%20https%3A%2F%2Fwww.googleapis.com%2Fauth%2Fdocs.test%20https%3A%2F%2Fwww.googleapis.com%2Fauth%2Fdrive%20https%3A%2F%2Fwww.googleapis.com%2Fauth%2Fdrive.photos.readonly%20https%3A%2F%2Fwww.googleapis.com%2Fauth%2Fpeopleapi.readonly&response_type=code\n",
            "\n",
            "Enter your authorization code:\n",
            "··········\n",
            "Mounted at /content/drive\n"
          ],
          "name": "stdout"
        }
      ]
    },
    {
      "cell_type": "code",
      "metadata": {
        "id": "I5rnAmAaH5Ho",
        "colab_type": "code",
        "outputId": "c7811576-608f-4783-e476-8136984ed65a",
        "colab": {
          "base_uri": "https://localhost:8080/",
          "height": 34
        }
      },
      "source": [
        "!ls '/content/drive'"
      ],
      "execution_count": 0,
      "outputs": [
        {
          "output_type": "stream",
          "text": [
            "'My Drive'\n"
          ],
          "name": "stdout"
        }
      ]
    },
    {
      "cell_type": "markdown",
      "metadata": {
        "id": "KWW__x_YGehb",
        "colab_type": "text"
      },
      "source": [
        "## LeNet-5\n",
        "\n",
        "![alt text](https://drive.google.com/uc?export=view&id=1Sdnwq8-hCsitzB3Sgv5Nx--iA4sSvrId)"
      ]
    },
    {
      "cell_type": "code",
      "metadata": {
        "id": "tqlvjiBcGOXu",
        "colab_type": "code",
        "outputId": "90f2c282-69ab-4e3b-c358-5f56a6e5b45b",
        "colab": {
          "base_uri": "https://localhost:8080/",
          "height": 51
        }
      },
      "source": [
        "!ls /content/drive/My\\ Drive/Colab\\ Notebooks/MNIST_data"
      ],
      "execution_count": 0,
      "outputs": [
        {
          "output_type": "stream",
          "text": [
            "t10k-images-idx3-ubyte.gz  train-images-idx3-ubyte.gz\n",
            "t10k-labels-idx1-ubyte.gz  train-labels-idx1-ubyte.gz\n"
          ],
          "name": "stdout"
        }
      ]
    },
    {
      "cell_type": "code",
      "metadata": {
        "id": "Ozja8_66IVOa",
        "colab_type": "code",
        "outputId": "8292a353-d056-4f60-ad47-a3d2ffe1aed2",
        "colab": {
          "base_uri": "https://localhost:8080/",
          "height": 85
        }
      },
      "source": [
        "import tensorflow as tf\n",
        "import random\n",
        "import numpy as np\n",
        "\n",
        "from tensorflow.examples.tutorials.mnist import input_data\n",
        "\n",
        "tf.reset_default_graph()\n",
        "tf.set_random_seed(777)\n",
        "\n",
        "mnist = input_data.read_data_sets(\"/coneten/drive/My\\ Drive/Colab\\ Notebooks/MNIST_data/\", one_hot=True)"
      ],
      "execution_count": 0,
      "outputs": [
        {
          "output_type": "stream",
          "text": [
            "Extracting /coneten/drive/My\\ Drive/Colab\\ Notebooks/MNIST_data/train-images-idx3-ubyte.gz\n",
            "Extracting /coneten/drive/My\\ Drive/Colab\\ Notebooks/MNIST_data/train-labels-idx1-ubyte.gz\n",
            "Extracting /coneten/drive/My\\ Drive/Colab\\ Notebooks/MNIST_data/t10k-images-idx3-ubyte.gz\n",
            "Extracting /coneten/drive/My\\ Drive/Colab\\ Notebooks/MNIST_data/t10k-labels-idx1-ubyte.gz\n"
          ],
          "name": "stdout"
        }
      ]
    },
    {
      "cell_type": "code",
      "metadata": {
        "id": "0vd9yt4KPLIh",
        "colab_type": "code",
        "colab": {}
      },
      "source": [
        "learning_rate = 0.001\n",
        "training_epochs = 15\n",
        "batch_size = 100"
      ],
      "execution_count": 0,
      "outputs": []
    },
    {
      "cell_type": "code",
      "metadata": {
        "id": "w1mJZwjtMsGF",
        "colab_type": "code",
        "colab": {}
      },
      "source": [
        "# 신경망 모델\n",
        "def CNN_model(x):\n",
        "  x_img = tf.reshape(x, [-1, 28, 28, 1])\n",
        "  \n",
        "  W_conv1 = tf.Variable(tf.truncated_normal(shape=[5, 5, 1, 6], stddev=5e-2))\n",
        "  b_conv1 = tf.Variable(tf.constant(0.1, shape=[6]))\n",
        "  h_conv1 = tf.nn.relu(tf.nn.conv2d(x_img, W_conv1, strides=[1, 1, 1, 1], padding='SAME') + b_conv1)\n",
        "  \n",
        "  h_pool1 = tf.nn.avg_pool(h_conv1, ksize=[1, 2, 2, 1], strides=[1, 2, 2, 1], padding='VALID')\n",
        "  \n",
        "  W_conv2 = tf.Variable(tf.truncated_normal(shape=[5, 5, 6, 16], stddev=5e-2))\n",
        "  b_conv2 = tf.Variable(tf.constant(0.1, shape=[16]))\n",
        "  h_conv2 = tf.nn.relu(tf.nn.conv2d(h_pool1, W_conv2, strides=[1, 1, 1, 1], padding='VALID') + b_conv2)\n",
        "  \n",
        "  h_pool2 = tf.nn.avg_pool(h_conv2, ksize=[1, 2, 2, 1], strides=[1, 2, 2, 1], padding='VALID')\n",
        "  \n",
        "  W_fc1 = tf.Variable(tf.truncated_normal(shape=[5*5*16, 120], stddev=5e-2))\n",
        "  b_fc1 = tf.Variable(tf.constant(0.1, shape=[120]))\n",
        "  \n",
        "  h_pool2_flat = tf.reshape(h_pool2, [-1, 5*5*16])\n",
        "  h_fc1 = tf.nn.relu(tf.matmul(h_pool2_flat, W_fc1) + b_fc1)\n",
        "  \n",
        "  W_fc2 = tf.Variable(tf.truncated_normal(shape=[120, 10], stddev=5e-2))\n",
        "  b_fc2 = tf.Variable(tf.constant(0.1, shape=[10]))\n",
        "  logits = tf.matmul(h_fc1, W_fc2) + b_fc2\n",
        "  y_pred = tf.nn.softmax(logits)\n",
        "  \n",
        "  return y_pred, logits"
      ],
      "execution_count": 0,
      "outputs": []
    },
    {
      "cell_type": "code",
      "metadata": {
        "id": "mh373P7qTwYe",
        "colab_type": "code",
        "colab": {}
      },
      "source": [
        "x = tf.placeholder(tf.float32, shape=[None, 784])\n",
        "y = tf.placeholder(tf.float32, shape=[None, 10])\n",
        "keep_prob = tf.placeholder(tf.float32)"
      ],
      "execution_count": 0,
      "outputs": []
    },
    {
      "cell_type": "code",
      "metadata": {
        "id": "WE98t2MHURH7",
        "colab_type": "code",
        "colab": {}
      },
      "source": [
        "y_pred, logits = CNN_model(x)"
      ],
      "execution_count": 0,
      "outputs": []
    },
    {
      "cell_type": "code",
      "metadata": {
        "id": "orbxUKClVFY9",
        "colab_type": "code",
        "colab": {}
      },
      "source": [
        "loss = tf.reduce_mean(tf.nn.softmax_cross_entropy_with_logits(labels=y, logits=logits))\n",
        "optimizer = tf.train.AdamOptimizer(learning_rate=learning_rate).minimize(loss)"
      ],
      "execution_count": 0,
      "outputs": []
    },
    {
      "cell_type": "code",
      "metadata": {
        "id": "hisxasfbZWFq",
        "colab_type": "code",
        "outputId": "00713424-1370-4754-fec7-1f1d517c8a09",
        "colab": {
          "base_uri": "https://localhost:8080/",
          "height": 323
        }
      },
      "source": [
        "with tf.Session() as sess:\n",
        "  sess.run(tf.global_variables_initializer())\n",
        "  \n",
        "  print('Learing started. It takes sometime.')\n",
        "  for epoch in range(training_epochs):\n",
        "    avg_loss = 0\n",
        "    total_batch = int(mnist.train.num_examples / batch_size)\n",
        "    \n",
        "    for i in range(total_batch):\n",
        "      batch_xs, batch_ys = mnist.train.next_batch(batch_size)\n",
        "      feed_dict = {x: batch_xs, y: batch_ys}\n",
        "      c, _ = sess.run([loss, optimizer], feed_dict=feed_dict)\n",
        "      avg_loss += c / total_batch\n",
        "      \n",
        "    print('Epoch:', '%04d' % (epoch+1), 'loss=', '{:.9f}'.format(avg_loss))\n",
        "    \n",
        "  print('Learning Finished!')\n",
        "  \n",
        "  correct_prediction = tf.equal(tf.argmax(y_pred, 1), tf.argmax(y, 1))\n",
        "  accuracy = tf.reduce_mean(tf.cast(correct_prediction, tf.float32))\n",
        "  print('Accuracy:', sess.run(accuracy, feed_dict={x:mnist.test.images, y:mnist.test.labels}))"
      ],
      "execution_count": 0,
      "outputs": [
        {
          "output_type": "stream",
          "text": [
            "Learing started. It takes sometime.\n",
            "Epoch: 0001 loss= 0.451709552\n",
            "Epoch: 0002 loss= 0.123537475\n",
            "Epoch: 0003 loss= 0.081617070\n",
            "Epoch: 0004 loss= 0.062947082\n",
            "Epoch: 0005 loss= 0.052232240\n",
            "Epoch: 0006 loss= 0.044300938\n",
            "Epoch: 0007 loss= 0.037309552\n",
            "Epoch: 0008 loss= 0.033703001\n",
            "Epoch: 0009 loss= 0.029245998\n",
            "Epoch: 0010 loss= 0.026123583\n",
            "Epoch: 0011 loss= 0.022436618\n",
            "Epoch: 0012 loss= 0.021890410\n",
            "Epoch: 0013 loss= 0.017681270\n",
            "Epoch: 0014 loss= 0.017341792\n",
            "Epoch: 0015 loss= 0.014183784\n",
            "Learning Finished!\n",
            "Accuracy: 0.9889\n"
          ],
          "name": "stdout"
        }
      ]
    },
    {
      "cell_type": "code",
      "metadata": {
        "id": "Cg6OEnPqe1FO",
        "colab_type": "code",
        "colab": {}
      },
      "source": [
        ""
      ],
      "execution_count": 0,
      "outputs": []
    }
  ]
}