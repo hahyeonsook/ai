version https://git-lfs.github.com/spec/v1
oid sha256:d7241f7dfd5b6465b54cb3e4ca87a19dba39780f2982fa2be5796e0b169fdee4
size 2745
