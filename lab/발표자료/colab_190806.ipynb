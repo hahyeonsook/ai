{
  "nbformat": 4,
  "nbformat_minor": 0,
  "metadata": {
    "colab": {
      "name": "colab_190806.ipynb",
      "version": "0.3.2",
      "provenance": [],
      "collapsed_sections": [],
      "include_colab_link": true
    },
    "kernelspec": {
      "name": "python3",
      "display_name": "Python 3"
    },
    "accelerator": "GPU"
  },
  "cells": [
    {
      "cell_type": "markdown",
      "metadata": {
        "id": "view-in-github",
        "colab_type": "text"
      },
      "source": [
        "<a href=\"https://colab.research.google.com/github/hyeonsuk/ai/blob/master/lab/%EB%B0%9C%ED%91%9C%EC%9E%90%EB%A3%8C/colab_190806.ipynb\" target=\"_parent\"><img src=\"https://colab.research.google.com/assets/colab-badge.svg\" alt=\"Open In Colab\"/></a>"
      ]
    },
    {
      "cell_type": "markdown",
      "metadata": {
        "id": "OUdom0BNrhjm",
        "colab_type": "text"
      },
      "source": [
        "### 아래의 글은 다음의 포스터들을 참조하였습니다.\n",
        "\n",
        "* https://zzsza.github.io/data/2018/08/30/google-colab/\n",
        "* https://colab.research.google.com/notebooks/welcome.ipynb#scrollTo=xitplqMNk_Hc\n",
        "* https://cloud.google.com/ml-engine/docs/tensorflow/using-gpus?hl=ko\n",
        "* [qbxlvnf11님 블로그](http://blog.naver.com/PostView.nhn?blogId=qbxlvnf11&logNo=221447507073&categoryNo=63&parentCategoryNo=0&viewDate=&currentPage=1&postListTopCurrentPage=1&from=search)\n",
        "* [padagi20님 블로그](http://blog.naver.com/PostView.nhn?blogId=padagi20&logNo=221204107315&parentCategoryNo=&categoryNo=22&viewDate=&isShowPopularPosts=true&from=search)\n",
        "* [Teddy님 블로그](https://teddylee777.github.io/machine-learning/Google-colab%EC%9C%BC%EB%A1%9C-GPU-%EB%B6%80%EC%8A%A4%ED%8A%B8%EB%B0%9B%EC%95%84-machine-learning-%ED%95%99%EC%8A%B5%ED%95%98%EA%B8%B0)"
      ]
    },
    {
      "cell_type": "markdown",
      "metadata": {
        "id": "R1qHnzc8msnu",
        "colab_type": "text"
      },
      "source": [
        "# Google Colaboratory\n",
        "\n",
        "Colaboratory는 설치가 필요 없이 완전히 클라우드에서 실행되는 무료 Jupyter  노트 환경입니다.\n",
        "\n",
        "Colab은 다음과 같은 장점이 있습니다.\n",
        "* 별도의 파이썬 설치 없이 웹 브라우저만을 이용해 주피터 노트북과 같은 작업을 할 수 있습니다.\n",
        "* 다른 사용자들과 공유가 쉽습니다.\n",
        "* 무료로 GPU를 사용할 수 있습니다.\n",
        "* 구글 독스나 구글 스프레트시트 등과 같은 식으로 공유와 편집이 가능합니다. 공동 작업에 유용합니다.\n",
        "\n",
        "그리고 다음과 같은 단점도 있습니다.\n",
        "\n",
        "* 90분간 미사용시 중지\n",
        "* 최대 12시간 연속 사용 가능"
      ]
    },
    {
      "cell_type": "markdown",
      "metadata": {
        "id": "iyF0j_tZoh6A",
        "colab_type": "text"
      },
      "source": [
        "## 코랩 시작하기\n",
        "\n",
        "구글 코랩을 사용하려면 google 계정이 필요합니다. 계정이 없다면 만들어야 해요 :)\n",
        "\n",
        "* https://www.google.com\n",
        "\n",
        "로그인을 한 후에는 코랩 주소로 접속합니다.\n",
        "\n",
        "* https://colab.research.google.com\n",
        "\n",
        "그러면 다음과 같은 시작 페이지가 나옵니다.\n",
        "\n"
      ]
    },
    {
      "cell_type": "markdown",
      "metadata": {
        "id": "ojxvAIMJrge_",
        "colab_type": "text"
      },
      "source": [
        "![colab1](https://drive.google.com/uc?export=view&id=1n1TDPT3xV5-qm0b1_jcOp3RnUWvPBTlM)"
      ]
    },
    {
      "cell_type": "markdown",
      "metadata": {
        "id": "vGgveu0pyi1O",
        "colab_type": "text"
      },
      "source": [
        " 메뉴에서 **파일>새 Python 2 노트** 명령을 선택하거나 다이얼로그 아래의 **새 PYTHON 3 노트** 를 누르면 새 노트북을 사용할 수 있습니다. 사용법은 주피터 노트북과 같이 마크다운 형식으로 사용합니다.\n",
        " \n",
        " ![대체 텍스트](https://drive.google.com/uc?export=view&id=1FnsOVmYHvLrlncwmmhodPhQbVEhfve1F)"
      ]
    },
    {
      "cell_type": "markdown",
      "metadata": {
        "id": "MNWnjExsWYNG",
        "colab_type": "text"
      },
      "source": [
        "## 환경 살펴보기\n",
        "\n",
        "운영체제나 하드웨어, 설치된 파이썬 사양 확인해봅시다."
      ]
    },
    {
      "cell_type": "code",
      "metadata": {
        "id": "YxfvnuvWZQE8",
        "colab_type": "code",
        "outputId": "935f0ba7-727a-45cb-a945-7267ca184dde",
        "colab": {
          "base_uri": "https://localhost:8080/",
          "height": 35
        }
      },
      "source": [
        "# OS\n",
        "!cat /etc/issue.net"
      ],
      "execution_count": 0,
      "outputs": [
        {
          "output_type": "stream",
          "text": [
            "Ubuntu 18.04.2 LTS\n"
          ],
          "name": "stdout"
        }
      ]
    },
    {
      "cell_type": "code",
      "metadata": {
        "id": "JMbG2sTOZcWZ",
        "colab_type": "code",
        "outputId": "5e86aa0a-600f-473b-a145-3baa92e5e41f",
        "colab": {
          "base_uri": "https://localhost:8080/",
          "height": 197
        }
      },
      "source": [
        "# CPU 사양\n",
        "!head /proc/cpuinfo"
      ],
      "execution_count": 0,
      "outputs": [
        {
          "output_type": "stream",
          "text": [
            "processor\t: 0\n",
            "vendor_id\t: GenuineIntel\n",
            "cpu family\t: 6\n",
            "model\t\t: 63\n",
            "model name\t: Intel(R) Xeon(R) CPU @ 2.30GHz\n",
            "stepping\t: 0\n",
            "microcode\t: 0x1\n",
            "cpu MHz\t\t: 2300.000\n",
            "cache size\t: 46080 KB\n",
            "physical id\t: 0\n"
          ],
          "name": "stdout"
        }
      ]
    },
    {
      "cell_type": "code",
      "metadata": {
        "id": "MHkE0hibZjmn",
        "colab_type": "code",
        "outputId": "e043bf3a-79c3-44f5-d8b9-c342e380f60b",
        "colab": {
          "base_uri": "https://localhost:8080/",
          "height": 71
        }
      },
      "source": [
        "# Memory 사양\n",
        "!head -n 3 /proc/meminfo"
      ],
      "execution_count": 0,
      "outputs": [
        {
          "output_type": "stream",
          "text": [
            "MemTotal:       13335268 kB\n",
            "MemFree:        11305604 kB\n",
            "MemAvailable:   12676440 kB\n"
          ],
          "name": "stdout"
        }
      ]
    },
    {
      "cell_type": "code",
      "metadata": {
        "id": "Xg4mzyLOaHGF",
        "colab_type": "code",
        "outputId": "307e7fc3-1bdf-465d-ca0e-4bbbf6c2adf8",
        "colab": {
          "base_uri": "https://localhost:8080/",
          "height": 161
        }
      },
      "source": [
        "# Disk 사양\n",
        "!df -h"
      ],
      "execution_count": 0,
      "outputs": [
        {
          "output_type": "stream",
          "text": [
            "Filesystem      Size  Used Avail Use% Mounted on\n",
            "overlay          49G   26G   22G  55% /\n",
            "tmpfs           6.4G     0  6.4G   0% /dev\n",
            "tmpfs           6.4G     0  6.4G   0% /sys/fs/cgroup\n",
            "tmpfs           6.4G  8.0K  6.4G   1% /var/colab\n",
            "/dev/sda1        55G   27G   29G  49% /etc/hosts\n",
            "shm             6.0G  4.0K  6.0G   1% /dev/shm\n",
            "tmpfs           6.4G     0  6.4G   0% /sys/firmware\n"
          ],
          "name": "stdout"
        }
      ]
    },
    {
      "cell_type": "code",
      "metadata": {
        "id": "NFSk4axkaLgD",
        "colab_type": "code",
        "outputId": "cedce48b-7d0d-4ba4-e722-9f4537d90eb5",
        "colab": {
          "base_uri": "https://localhost:8080/",
          "height": 35
        }
      },
      "source": [
        "# Python 사양\n",
        "!python --version"
      ],
      "execution_count": 0,
      "outputs": [
        {
          "output_type": "stream",
          "text": [
            "Python 3.6.8\n"
          ],
          "name": "stdout"
        }
      ]
    },
    {
      "cell_type": "markdown",
      "metadata": {
        "id": "fBMa4z6629dm",
        "colab_type": "text"
      },
      "source": [
        "## Colab UI\n",
        "\n",
        "붉은 부분은 해당 노트북의 목차, 코드 스니펫, 파일 등을 볼 수 있습니다.\n",
        "\n",
        "파란 부분은 해당 노트북의 내용을 나타냅니다.\n",
        "\n",
        "![대체 텍스트](https://drive.google.com/uc?export=view&id=1cLHUgWh5O-io1Csxz2bxt5DmmyncwRWq)"
      ]
    },
    {
      "cell_type": "markdown",
      "metadata": {
        "id": "KBlDqH3b3ZE2",
        "colab_type": "text"
      },
      "source": [
        "## Colab 사용시 주의 점\n",
        "\n",
        "Colaboratory는 docker로 돌아가기 때문에, 내가 설치한 새로운 환경 패키지, 샘플 데이터 등이 언제든지 날아갈 수 있습니다.\n",
        "\n",
        "작업하고 있는 notebook은 drive에 저장할 수 있습니다. 소스코드는 보존이 가능하나 그 안에서 돌리는 다운받은 샘플데이터나 weight, 변수 등의 값들은 날아갈 수 있습니다.\n",
        "\n",
        "이런 점을 보완하기 위해 Google Drive를 사용할 수 있습니다."
      ]
    },
    {
      "cell_type": "markdown",
      "metadata": {
        "id": "53XVbK2Vs1mw",
        "colab_type": "text"
      },
      "source": [
        "## 구글 드라이브 연동\n",
        "\n",
        "colab에 구글드라이브를 연결하면 구글 드라이브에서 데이터 파일을 열거나 저장할 수도 있습니다.\n",
        "\n",
        "다음의 코드를 실행하면 구글 드라이브를 /content/drive/라는 이름으로 드라이브로 코랩에 마운트시킵니다."
      ]
    },
    {
      "cell_type": "code",
      "metadata": {
        "id": "tD4-VUF0s-XQ",
        "colab_type": "code",
        "colab": {}
      },
      "source": [
        "from google.colab import drive\n",
        "\n",
        "drive.mount('/content/drive')"
      ],
      "execution_count": 0,
      "outputs": []
    },
    {
      "cell_type": "markdown",
      "metadata": {
        "id": "HAXOQ8Z90qT4",
        "colab_type": "text"
      },
      "source": [
        "그러면 다음 그림과 같이 구글 드라이브의 권한을 요청합니다.\n",
        "\n",
        "\n",
        "![대체 텍스트](https://drive.google.com/uc?export=view&id=1xDO3K5pVkwiN8i47USPVCfJzMVRnlUei)\n",
        "\n",
        "\n",
        "URL 링크를 클릭하여 구글에 로그인하면 비밀키 문자열을 알려줍니다.\n",
        "\n",
        "\n",
        "![대체 텍스트](https://drive.google.com/uc?export=view&id=12YyuPJLOd7bDbepTf6Mdbmasj49rSPpF)\n",
        "\n",
        "\n",
        "![대체 텍스트](https://drive.google.com/uc?export=view&id=1usqCMvcC3oO2Zfyvqedd_CCBBEUjVFue)\n",
        "\n",
        "\n",
        "이 비밀키 문자열을 복사하여 코랩에 있는 입력칸에 붙여넣으면 구글 드라이브와 연결됩니다.\n",
        "\n",
        "\n",
        "![대체 텍스트](https://drive.google.com/uc?export=view&id=1_MBE0WIpRczMbkaDR56RVUCn6nPAejBb)\n",
        "\n",
        "연결되면 다음과 같이 배시 셸 명령어로 폴더를 확인할 수 있습니다.\n"
      ]
    },
    {
      "cell_type": "code",
      "metadata": {
        "id": "nREasXxBtDbN",
        "colab_type": "code",
        "outputId": "337aa800-7103-421e-c7d1-8093f277d8a7",
        "colab": {
          "base_uri": "https://localhost:8080/",
          "height": 35
        }
      },
      "source": [
        "# 폴더 확인\n",
        "!ls '/content/drive'"
      ],
      "execution_count": 0,
      "outputs": [
        {
          "output_type": "stream",
          "text": [
            "'My Drive'\n"
          ],
          "name": "stdout"
        }
      ]
    },
    {
      "cell_type": "markdown",
      "metadata": {
        "id": "TvthAVRr2eV_",
        "colab_type": "text"
      },
      "source": [
        "또한, colab에서 파일을 생성하여 Google Drive에 저장할 수 있습니다."
      ]
    },
    {
      "cell_type": "code",
      "metadata": {
        "id": "yej_nVesu4NI",
        "colab_type": "code",
        "outputId": "d59f81a9-fa86-4872-8ba1-e2b989002495",
        "colab": {
          "base_uri": "https://localhost:8080/",
          "height": 35
        }
      },
      "source": [
        "# 드라이브 파일 오픈\n",
        "with open('/content/drive/My Drive/test.txt', 'w') as f:\n",
        "  f.write('Hello Google Drive!')\n",
        "  \n",
        "!cat /content/drive/My\\ Drive/test.txt"
      ],
      "execution_count": 0,
      "outputs": [
        {
          "output_type": "stream",
          "text": [
            "Hello Google Drive!"
          ],
          "name": "stdout"
        }
      ]
    },
    {
      "cell_type": "markdown",
      "metadata": {
        "id": "gUUMyOEp2XyY",
        "colab_type": "text"
      },
      "source": [
        "위의 코드를 실행시켜보면 Google Drive 에서 파일을 확인할 수 있습니다.\n",
        "\n",
        "![대체 텍스트](https://drive.google.com/uc?export=view&id=1gPe0IAYRqbrT8wUp88mcHB8p8nKhQ63p)"
      ]
    },
    {
      "cell_type": "markdown",
      "metadata": {
        "id": "aQrBwWyb-SAg",
        "colab_type": "text"
      },
      "source": [
        "##  Python 사용하기\n",
        "\n",
        "Colab에서는 별도의 설치없이 python과 여러 python 패키지들을 이용할 수 있습니다.\n",
        "\n",
        "tensorflow, pytorch 등이 제공되고 필요하다면 python lib를 설치할 수 있습니다."
      ]
    },
    {
      "cell_type": "code",
      "metadata": {
        "id": "D-nZQWCu-i_9",
        "colab_type": "code",
        "outputId": "e7784fa2-5008-4c20-b4de-719bcd2070ca",
        "colab": {
          "base_uri": "https://localhost:8080/",
          "height": 35
        }
      },
      "source": [
        "import tensorflow as tf\n",
        "print(tf.__version__)"
      ],
      "execution_count": 0,
      "outputs": [
        {
          "output_type": "stream",
          "text": [
            "1.14.0\n"
          ],
          "name": "stdout"
        }
      ]
    },
    {
      "cell_type": "markdown",
      "metadata": {
        "id": "UJHCwzfF6BTW",
        "colab_type": "text"
      },
      "source": [
        "## CPU vs GPU\n",
        "\n",
        "**CPU**  는 다양한 환경에서 작업을 빠르게 처리하기 위해 ALU와 같은 실제 연산을 처리하는 부분의 구조가 복잡하고, 각종 제어 처리 기능이 많다.\n",
        "가능한 적은 명령어로 복잡한 기능을 처리하고자 하기 때문에 명령어 자체가 복잡하다.\n",
        "\n",
        "**GPU** 특화된 연산만을 처리하기 위해 제어 부분, 복잡한 구조 등을 버리고 다수의 성능이 적은 ALU만 존재한다. 때문에 GPU 단독으로 작업을 처리할 수는 없으며 CPU가 GPU를 제어한다.\n",
        "\n",
        "![나무 위키](https://drive.google.com/uc?export=view&id=1QB9rvTYHUrSr7fX9_v5kjAr1PpRSbudK)\n",
        "\n",
        "위의 그림을 보면 cpu는 네 개의 큰 코어로 이뤄져있고, GPU는 수많은 작은 코어를 가지고 있는 것을 볼 수 있다.\n",
        "\n",
        " CPU의 하나의 코어와 GPU의 하나의 코어의 성능을 비교했을 때는 CPU 코어의 성능이 좋을 것이나, GPU는 여러 개의 작은 코어를 이용한 병렬 처리를 통해 많은 계산을 동시에 처리한다.\n",
        " \n",
        " \n",
        "**결론적으로 GPU는 대량 계산에 최적화되어 있기 때문에 Machine Learning의 성능을 끌어올릴 수 있다.**"
      ]
    },
    {
      "cell_type": "markdown",
      "metadata": {
        "id": "Fs5alUJn50rA",
        "colab_type": "text"
      },
      "source": [
        "## Colab GPU 사용하기\n",
        "\n",
        "Colab의 가장 큰 장점은 gpu, tpu를 사용할 수 있다는 것입니다.\n",
        "\n",
        "메뉴에서 런타임>런타임유형변경을 클릭하면 아래와 같이 하드웨어 가속기를 선택할 수 있습니다.\n",
        "\n",
        "![대체 텍스트](https://drive.google.com/uc?export=view&id=1bZE8Pft36O4HM3KCF-OqLKEanwobin4R)\n",
        "\n",
        "GPU 정보를 확인해봅시다."
      ]
    },
    {
      "cell_type": "code",
      "metadata": {
        "id": "NaDA4sd-9jsu",
        "colab_type": "code",
        "outputId": "c39036de-74d0-4bd2-a43d-7f7b44e2a77b",
        "colab": {
          "base_uri": "https://localhost:8080/",
          "height": 323
        }
      },
      "source": [
        "!nvidia-smi"
      ],
      "execution_count": 0,
      "outputs": [
        {
          "output_type": "stream",
          "text": [
            "Tue Aug  6 03:26:40 2019       \n",
            "+-----------------------------------------------------------------------------+\n",
            "| NVIDIA-SMI 418.67       Driver Version: 410.79       CUDA Version: 10.0     |\n",
            "|-------------------------------+----------------------+----------------------+\n",
            "| GPU  Name        Persistence-M| Bus-Id        Disp.A | Volatile Uncorr. ECC |\n",
            "| Fan  Temp  Perf  Pwr:Usage/Cap|         Memory-Usage | GPU-Util  Compute M. |\n",
            "|===============================+======================+======================|\n",
            "|   0  Tesla T4            Off  | 00000000:00:04.0 Off |                    0 |\n",
            "| N/A   39C    P8    15W /  70W |      0MiB / 15079MiB |      0%      Default |\n",
            "+-------------------------------+----------------------+----------------------+\n",
            "                                                                               \n",
            "+-----------------------------------------------------------------------------+\n",
            "| Processes:                                                       GPU Memory |\n",
            "|  GPU       PID   Type   Process name                             Usage      |\n",
            "|=============================================================================|\n",
            "|  No running processes found                                                 |\n",
            "+-----------------------------------------------------------------------------+\n"
          ],
          "name": "stdout"
        }
      ]
    },
    {
      "cell_type": "code",
      "metadata": {
        "id": "oCNb_uTOtxwG",
        "colab_type": "code",
        "colab": {}
      },
      "source": [
        "from google.colab import drive\n",
        "drive.mount('/content/drive')"
      ],
      "execution_count": 0,
      "outputs": []
    },
    {
      "cell_type": "markdown",
      "metadata": {
        "id": "knS7LIrGAXZI",
        "colab_type": "text"
      },
      "source": [
        "## Colab Github와 사용하기\n",
        "\n",
        "Colab에서는 메뉴에서 파일>Github에 사본 저장으로 repository에 push해 줍니다. 또한, Drive에 저장됨은 물론이고 local PC에 .ipynb 혹은 .py 파일로 다운받을 수 있습니다.\n",
        "\n",
        "![대체 텍스트](https://drive.google.com/uc?export=view&id=1-1QVkTc9wgQosQfCoM7_5s_60KIbSVLx)"
      ]
    },
    {
      "cell_type": "code",
      "metadata": {
        "id": "nJ-OOKkUthql",
        "colab_type": "code",
        "colab": {}
      },
      "source": [
        ""
      ],
      "execution_count": 0,
      "outputs": []
    }
  ]
}