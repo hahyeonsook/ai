version https://git-lfs.github.com/spec/v1
oid sha256:0141bef13602bce4f0fbedf9d8ce751c5ca7cdc3990092d10167e347e055d493
size 15650
