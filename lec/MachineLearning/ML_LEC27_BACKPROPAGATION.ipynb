version https://git-lfs.github.com/spec/v1
oid sha256:51f21c6aaebabd9203bb021c076df609b09270cde5b0b94614f031c6e2635fcd
size 1941
